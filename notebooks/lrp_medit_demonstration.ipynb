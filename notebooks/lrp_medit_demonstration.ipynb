{
 "cells": [
  {
   "metadata": {},
   "cell_type": "markdown",
   "source": [
    "# LRP ResNet Demonstration Notebook\n",
    "In this notebook we deploy our LRPEngine on the **ResNet image classification model**. As comprehensibly described in one provided paper (see \"literature/lrp_resnet\"), the implementation of LRP on models with residual connections (as ResNet) is non-trivial."
   ],
   "id": "6637844b33fa5fac"
  },
  {
   "cell_type": "code",
   "id": "initial_id",
   "metadata": {
    "collapsed": true
   },
   "source": [
    "import torch\n",
    "import torch.nn as nn\n",
    "import torch.nn.functional as F\n",
    "from torchvision import transforms, models\n",
    "from torchvision.transforms import v2\n",
    "# import cv2\n",
    "# import json\n",
    "\n",
    "# import numpy as np\n",
    "import matplotlib.pyplot as plt\n",
    "\n",
    "from src.xai.lrp import LRPEngine"
   ],
   "outputs": [],
   "execution_count": null
  },
  {
   "metadata": {},
   "cell_type": "markdown",
   "source": "## Model Initialisation",
   "id": "3d5414d0df4daa5"
  },
  {
   "metadata": {},
   "cell_type": "code",
   "source": [
    "# constant variables in capital letters:\n",
    "OUTPUT_PATH = \"../output\""
   ],
   "id": "534264957b7b44ce",
   "outputs": [],
   "execution_count": null
  },
  {
   "metadata": {},
   "cell_type": "markdown",
   "source": "Decide which picture to use:",
   "id": "6d17f57295b6209b"
  },
  {
   "metadata": {},
   "cell_type": "code",
   "source": "img_path = LINEALS",
   "id": "b1c38aae00964073",
   "outputs": [],
   "execution_count": null
  },
  {
   "metadata": {},
   "cell_type": "markdown",
   "source": "### 1. Load Model",
   "id": "e4b9d6eec32ae36e"
  },
  {
   "metadata": {},
   "cell_type": "code",
   "source": "model = torch.hub.load('pytorch/vision:v0.10.0', 'resnet50', pretrained=True)",
   "id": "aa5e5d9c10ba9b90",
   "outputs": [],
   "execution_count": null
  },
  {
   "metadata": {},
   "cell_type": "markdown",
   "source": [
    "### 2. Model Description\n",
    "The backbone (ResNet 50) consists of\n",
    "- 1 Conv - Batch normalisation - ReLU - MaxPool2d layer\n",
    "- 4 layers with 3, 4, 6, 3 Bottleneck blocks, respectively. Each Bottleneck block consists of\n",
    "- - 3 Conv - Batch normalisation blocks (1x1, 3x3 and 1x1)\n",
    "- - 1 ReLU layer\n",
    "- - and (the first block) another \"downsample\" Conv - Batch normalisation block\n",
    "- - **Importantly, there is a skip-connection either through an identity mapping or a linear projection (in downsample blocks), that adds the input again before the next ReLU Layer!**\n",
    "- 1 average pooling layer\n",
    "\n",
    "The classifier consists of \n",
    "- 1 Flattening layer\n",
    "- 2 Linear - ReLU blocks\n",
    "- One Linear output layer\n",
    "\n",
    "Why so?\n",
    "- **Drop-out** layers are a regularisation tool to *prevent overfitting*\n",
    "- **Batch normalisation** layers are a regularisation tool to prevent vanishing gradients by normalizing the layer output based on statistics.\n",
    "- **Pooling layers** reduce the dimension of the feature space\n",
    "\n",
    "This is the code snipped for executing a Bottleneck block:\n",
    "        \n",
    "        def forward(self, x: Tensor) -> Tensor:\n",
    "            identity = x\n",
    "    \n",
    "            out = self.conv1(x)\n",
    "            out = self.bn1(out)\n",
    "            out = self.relu(out)\n",
    "    \n",
    "            out = self.conv2(out)\n",
    "            out = self.bn2(out)\n",
    "            out = self.relu(out)\n",
    "    \n",
    "            out = self.conv3(out)\n",
    "            out = self.bn3(out)\n",
    "    \n",
    "            if self.downsample is not None:\n",
    "                identity = self.downsample(x)\n",
    "    \n",
    "            out += identity\n",
    "            out = self.relu(out)\n",
    "    \n",
    "            return out\n",
    "            \n",
    "Such **Bottleneck blocks introduce additional complexity because of the involved skip connections**."
   ],
   "id": "2b939b3af4807655"
  },
  {
   "metadata": {},
   "cell_type": "markdown",
   "source": "![ResNet Architecture](../images/resnet50_architecture.png)",
   "id": "db8c2ef91dcd360d"
  },
  {
   "metadata": {},
   "cell_type": "markdown",
   "source": "### 3. Demonstrate Model",
   "id": "952761aa67cde623"
  },
  {
   "metadata": {},
   "cell_type": "code",
   "source": "medit_classifier.plot_prediction(model, img_path, PRED_PATH)",
   "id": "a348dee32607a705",
   "outputs": [],
   "execution_count": null
  },
  {
   "metadata": {},
   "cell_type": "markdown",
   "source": [
    "## LRP Implementation\n",
    "We achieve all subsequent calculation steps through the **LRPEngine class**."
   ],
   "id": "b3e34a9ce84666f1"
  },
  {
   "metadata": {},
   "cell_type": "code",
   "source": "_, img_tensor = medit_classifier.load_img_and_tensor(img_path)",
   "id": "38a344e5dbf0f284",
   "outputs": [],
   "execution_count": null
  },
  {
   "metadata": {},
   "cell_type": "code",
   "source": "lrp_engine = LRPEngine(model, img_tensor.unsqueeze(0), plot_output_dir=OUTPUT_PATH)",
   "id": "e37b86a231f4856e",
   "outputs": [],
   "execution_count": null
  },
  {
   "metadata": {},
   "cell_type": "markdown",
   "source": [
    "### Validate Model\n",
    "Here, we again read out the prediction, verifying that our collected activations are accurate."
   ],
   "id": "d7aaef3cd94c2fc0"
  },
  {
   "metadata": {},
   "cell_type": "code",
   "source": "lrp_engine.layers",
   "id": "78ea10f166b80c67",
   "outputs": [],
   "execution_count": null
  },
  {
   "metadata": {},
   "cell_type": "code",
   "source": [
    "categories = ['Stage 1', 'Stage 2', 'Stage 3', 'Stage 4']\n",
    "lrp_engine.print_results(categories, 4)"
   ],
   "id": "7bf0d555262c6614",
   "outputs": [],
   "execution_count": null
  },
  {
   "metadata": {},
   "cell_type": "markdown",
   "source": "**Success!** The results are equivalent.",
   "id": "3a2f25280494b951"
  },
  {
   "metadata": {},
   "cell_type": "markdown",
   "source": [
    "### Relevance Score Calculation\n",
    "In the following we define and deploy the LRP implementation. Because LRP implementation on residual networks is non-trivial, we pulled inspiration from the https://github.com/keio-smilab24/LRP-for-ResNet/tree/main implementation and implemented it in our LRPEngine class.\n",
    "\n",
    "An important hyperparameter is the **rel_filter_ratio** that describes the share of largest relevance values to be kept during LRP calculation, i.e. the remainder is set to zero to avoid spurious contributions."
   ],
   "id": "d37a2128fcf1dd76"
  },
  {
   "metadata": {},
   "cell_type": "code",
   "source": "lrp_engine.calculate_relevance_scores(rel_filter_ratio=.75)",
   "id": "bec1ca2b98d23609",
   "outputs": [],
   "execution_count": null
  },
  {
   "metadata": {},
   "cell_type": "markdown",
   "source": [
    "### Result Visualisation\n",
    "Here we can **read out the LRP values as a saliency map** from **different layers**. Furthermore, with the plt_cmap parameter we can define how the heatmap should be constructed.\n",
    "\n",
    "The default is *\"afmhot\"*, which yields a heatmap ranging from black to light fire colors. Other options can be found here: https://matplotlib.org/stable/users/explain/colors/colormaps.html, of which some are demonstrated below."
   ],
   "id": "34f9f5ac63f5426e"
  },
  {
   "metadata": {},
   "cell_type": "code",
   "source": [
    "layer_indices = range(20)\n",
    "color_maps = ['bwr'] \n",
    "\n",
    "for layer_ind in layer_indices:\n",
    "    for cmap in color_maps:\n",
    "        lrp_engine.plot_relevance_scores(layer_ind, cmap)"
   ],
   "id": "a52473d0b684c4e1",
   "outputs": [],
   "execution_count": null
  },
  {
   "metadata": {},
   "cell_type": "code",
   "source": "lrp_engine.layers[20:]",
   "id": "ddbbcd75b8b8d43b",
   "outputs": [],
   "execution_count": null
  },
  {
   "metadata": {},
   "cell_type": "code",
   "source": [
    "layer_indices = range(20, len(lrp_engine.layers))\n",
    "color_maps = ['bwr'] \n",
    "\n",
    "for layer_ind in layer_indices:\n",
    "    for cmap in color_maps:\n",
    "        lrp_engine.plot_relevance_scores(layer_ind, cmap)"
   ],
   "id": "5c5db1217613dee",
   "outputs": [],
   "execution_count": null
  },
  {
   "metadata": {},
   "cell_type": "code",
   "source": "",
   "id": "e970f619f99f3d5d",
   "outputs": [],
   "execution_count": null
  }
 ],
 "metadata": {
  "kernelspec": {
   "display_name": "Python 3",
   "language": "python",
   "name": "python3"
  },
  "language_info": {
   "codemirror_mode": {
    "name": "ipython",
    "version": 2
   },
   "file_extension": ".py",
   "mimetype": "text/x-python",
   "name": "python",
   "nbconvert_exporter": "python",
   "pygments_lexer": "ipython2",
   "version": "2.7.6"
  }
 },
 "nbformat": 4,
 "nbformat_minor": 5
}
